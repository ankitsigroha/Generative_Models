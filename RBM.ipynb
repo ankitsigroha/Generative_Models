{
 "cells": [
  {
   "cell_type": "code",
   "execution_count": 1,
   "metadata": {},
   "outputs": [],
   "source": [
    "def gibbs_sampling(j,x_in,rbm):\n",
    "    counter = 0\n",
    "    while counter < j:\n",
    "        gibbs_x = rbm.gibbs(x_in)\n",
    "        x_in = np.zeros_like(x_in)\n",
    "        #pixel turning\n",
    "        x_in[gibbs_x] = 1\n",
    "        counter+=1\n",
    "    return x_in"
   ]
  },
  {
   "cell_type": "code",
   "execution_count": 2,
   "metadata": {},
   "outputs": [],
   "source": [
    "import time\n",
    "import numpy as np\n",
    "from tensorflow.examples.tutorials.mnist import input_data\n",
    "import matplotlib.pyplot as plt\n",
    "%matplotlib inline\n",
    "from sklearn.neural_network import BernoulliRBM\n",
    "import os\n",
    "os.environ['KMP_DUPLICATE_LIB_OK']='True'"
   ]
  },
  {
   "cell_type": "code",
   "execution_count": 3,
   "metadata": {},
   "outputs": [
    {
     "name": "stdout",
     "output_type": "stream",
     "text": [
      "WARNING:tensorflow:From <ipython-input-3-8b381937d14b>:1: read_data_sets (from tensorflow.contrib.learn.python.learn.datasets.mnist) is deprecated and will be removed in a future version.\n",
      "Instructions for updating:\n",
      "Please use alternatives such as official/mnist/dataset.py from tensorflow/models.\n",
      "WARNING:tensorflow:From /anaconda3/lib/python3.7/site-packages/tensorflow/contrib/learn/python/learn/datasets/mnist.py:260: maybe_download (from tensorflow.contrib.learn.python.learn.datasets.base) is deprecated and will be removed in a future version.\n",
      "Instructions for updating:\n",
      "Please write your own downloading logic.\n",
      "WARNING:tensorflow:From /anaconda3/lib/python3.7/site-packages/tensorflow/contrib/learn/python/learn/datasets/mnist.py:262: extract_images (from tensorflow.contrib.learn.python.learn.datasets.mnist) is deprecated and will be removed in a future version.\n",
      "Instructions for updating:\n",
      "Please use tf.data to implement this functionality.\n",
      "Extracting MNIST_data/train-images-idx3-ubyte.gz\n",
      "WARNING:tensorflow:From /anaconda3/lib/python3.7/site-packages/tensorflow/contrib/learn/python/learn/datasets/mnist.py:267: extract_labels (from tensorflow.contrib.learn.python.learn.datasets.mnist) is deprecated and will be removed in a future version.\n",
      "Instructions for updating:\n",
      "Please use tf.data to implement this functionality.\n",
      "Extracting MNIST_data/train-labels-idx1-ubyte.gz\n",
      "WARNING:tensorflow:From /anaconda3/lib/python3.7/site-packages/tensorflow/contrib/learn/python/learn/datasets/mnist.py:110: dense_to_one_hot (from tensorflow.contrib.learn.python.learn.datasets.mnist) is deprecated and will be removed in a future version.\n",
      "Instructions for updating:\n",
      "Please use tf.one_hot on tensors.\n",
      "Extracting MNIST_data/t10k-images-idx3-ubyte.gz\n",
      "Extracting MNIST_data/t10k-labels-idx1-ubyte.gz\n",
      "WARNING:tensorflow:From /anaconda3/lib/python3.7/site-packages/tensorflow/contrib/learn/python/learn/datasets/mnist.py:290: DataSet.__init__ (from tensorflow.contrib.learn.python.learn.datasets.mnist) is deprecated and will be removed in a future version.\n",
      "Instructions for updating:\n",
      "Please use alternatives such as official/mnist/dataset.py from tensorflow/models.\n"
     ]
    }
   ],
   "source": [
    "mnist = input_data.read_data_sets('MNIST_data', one_hot=True)\n",
    "x,_ = mnist.train.next_batch(5000)\n",
    "y,_ = mnist.test.next_batch(1000)"
   ]
  },
  {
   "cell_type": "code",
   "execution_count": 4,
   "metadata": {},
   "outputs": [],
   "source": [
    "#ref: https://scikit-learn.org/stable/modules/generated/sklearn.neural_network.BernoulliRBM.html\n",
    "rbm = BernoulliRBM(n_components=100, learning_rate=0.02, batch_size=50, n_iter=100, random_state=0, verbose=1)"
   ]
  },
  {
   "cell_type": "code",
   "execution_count": 5,
   "metadata": {},
   "outputs": [
    {
     "name": "stdout",
     "output_type": "stream",
     "text": [
      "[BernoulliRBM] Iteration 1, pseudo-likelihood = -237.67, time = 0.26s\n",
      "[BernoulliRBM] Iteration 2, pseudo-likelihood = -202.27, time = 0.32s\n",
      "[BernoulliRBM] Iteration 3, pseudo-likelihood = -185.14, time = 0.31s\n",
      "[BernoulliRBM] Iteration 4, pseudo-likelihood = -174.44, time = 0.30s\n",
      "[BernoulliRBM] Iteration 5, pseudo-likelihood = -163.92, time = 0.34s\n",
      "[BernoulliRBM] Iteration 6, pseudo-likelihood = -156.77, time = 0.36s\n",
      "[BernoulliRBM] Iteration 7, pseudo-likelihood = -150.58, time = 0.33s\n",
      "[BernoulliRBM] Iteration 8, pseudo-likelihood = -145.58, time = 0.31s\n",
      "[BernoulliRBM] Iteration 9, pseudo-likelihood = -142.07, time = 0.32s\n",
      "[BernoulliRBM] Iteration 10, pseudo-likelihood = -138.24, time = 0.33s\n",
      "[BernoulliRBM] Iteration 11, pseudo-likelihood = -135.81, time = 0.35s\n",
      "[BernoulliRBM] Iteration 12, pseudo-likelihood = -132.86, time = 0.38s\n",
      "[BernoulliRBM] Iteration 13, pseudo-likelihood = -130.70, time = 0.39s\n",
      "[BernoulliRBM] Iteration 14, pseudo-likelihood = -128.56, time = 0.39s\n",
      "[BernoulliRBM] Iteration 15, pseudo-likelihood = -126.11, time = 0.37s\n",
      "[BernoulliRBM] Iteration 16, pseudo-likelihood = -124.50, time = 0.33s\n",
      "[BernoulliRBM] Iteration 17, pseudo-likelihood = -123.31, time = 0.32s\n",
      "[BernoulliRBM] Iteration 18, pseudo-likelihood = -121.15, time = 0.33s\n",
      "[BernoulliRBM] Iteration 19, pseudo-likelihood = -120.12, time = 0.33s\n",
      "[BernoulliRBM] Iteration 20, pseudo-likelihood = -118.87, time = 0.34s\n",
      "[BernoulliRBM] Iteration 21, pseudo-likelihood = -117.57, time = 0.34s\n",
      "[BernoulliRBM] Iteration 22, pseudo-likelihood = -116.50, time = 0.31s\n",
      "[BernoulliRBM] Iteration 23, pseudo-likelihood = -115.41, time = 0.30s\n",
      "[BernoulliRBM] Iteration 24, pseudo-likelihood = -114.29, time = 0.31s\n",
      "[BernoulliRBM] Iteration 25, pseudo-likelihood = -113.45, time = 0.30s\n",
      "[BernoulliRBM] Iteration 26, pseudo-likelihood = -112.22, time = 0.30s\n",
      "[BernoulliRBM] Iteration 27, pseudo-likelihood = -111.82, time = 0.30s\n",
      "[BernoulliRBM] Iteration 28, pseudo-likelihood = -110.42, time = 0.30s\n",
      "[BernoulliRBM] Iteration 29, pseudo-likelihood = -109.97, time = 0.30s\n",
      "[BernoulliRBM] Iteration 30, pseudo-likelihood = -109.29, time = 0.30s\n",
      "[BernoulliRBM] Iteration 31, pseudo-likelihood = -108.02, time = 0.30s\n",
      "[BernoulliRBM] Iteration 32, pseudo-likelihood = -107.40, time = 0.30s\n",
      "[BernoulliRBM] Iteration 33, pseudo-likelihood = -106.42, time = 0.29s\n",
      "[BernoulliRBM] Iteration 34, pseudo-likelihood = -105.77, time = 0.30s\n",
      "[BernoulliRBM] Iteration 35, pseudo-likelihood = -104.66, time = 0.30s\n",
      "[BernoulliRBM] Iteration 36, pseudo-likelihood = -104.29, time = 0.30s\n",
      "[BernoulliRBM] Iteration 37, pseudo-likelihood = -103.84, time = 0.30s\n",
      "[BernoulliRBM] Iteration 38, pseudo-likelihood = -103.29, time = 0.30s\n",
      "[BernoulliRBM] Iteration 39, pseudo-likelihood = -102.45, time = 0.30s\n",
      "[BernoulliRBM] Iteration 40, pseudo-likelihood = -101.83, time = 0.33s\n",
      "[BernoulliRBM] Iteration 41, pseudo-likelihood = -101.79, time = 0.30s\n",
      "[BernoulliRBM] Iteration 42, pseudo-likelihood = -100.71, time = 0.30s\n",
      "[BernoulliRBM] Iteration 43, pseudo-likelihood = -100.45, time = 0.30s\n",
      "[BernoulliRBM] Iteration 44, pseudo-likelihood = -99.80, time = 0.30s\n",
      "[BernoulliRBM] Iteration 45, pseudo-likelihood = -99.80, time = 0.30s\n",
      "[BernoulliRBM] Iteration 46, pseudo-likelihood = -98.85, time = 0.30s\n",
      "[BernoulliRBM] Iteration 47, pseudo-likelihood = -98.37, time = 0.30s\n",
      "[BernoulliRBM] Iteration 48, pseudo-likelihood = -98.26, time = 0.29s\n",
      "[BernoulliRBM] Iteration 49, pseudo-likelihood = -97.21, time = 0.30s\n",
      "[BernoulliRBM] Iteration 50, pseudo-likelihood = -97.31, time = 0.30s\n",
      "[BernoulliRBM] Iteration 51, pseudo-likelihood = -96.86, time = 0.29s\n",
      "[BernoulliRBM] Iteration 52, pseudo-likelihood = -96.15, time = 0.30s\n",
      "[BernoulliRBM] Iteration 53, pseudo-likelihood = -96.23, time = 0.30s\n",
      "[BernoulliRBM] Iteration 54, pseudo-likelihood = -95.69, time = 0.30s\n",
      "[BernoulliRBM] Iteration 55, pseudo-likelihood = -95.45, time = 0.30s\n",
      "[BernoulliRBM] Iteration 56, pseudo-likelihood = -94.65, time = 0.30s\n",
      "[BernoulliRBM] Iteration 57, pseudo-likelihood = -94.61, time = 0.30s\n",
      "[BernoulliRBM] Iteration 58, pseudo-likelihood = -94.60, time = 0.30s\n",
      "[BernoulliRBM] Iteration 59, pseudo-likelihood = -94.05, time = 0.30s\n",
      "[BernoulliRBM] Iteration 60, pseudo-likelihood = -93.31, time = 0.30s\n",
      "[BernoulliRBM] Iteration 61, pseudo-likelihood = -92.88, time = 0.30s\n",
      "[BernoulliRBM] Iteration 62, pseudo-likelihood = -93.40, time = 0.30s\n",
      "[BernoulliRBM] Iteration 63, pseudo-likelihood = -92.72, time = 0.30s\n",
      "[BernoulliRBM] Iteration 64, pseudo-likelihood = -92.50, time = 0.30s\n",
      "[BernoulliRBM] Iteration 65, pseudo-likelihood = -91.78, time = 0.30s\n",
      "[BernoulliRBM] Iteration 66, pseudo-likelihood = -91.85, time = 0.30s\n",
      "[BernoulliRBM] Iteration 67, pseudo-likelihood = -91.88, time = 0.30s\n",
      "[BernoulliRBM] Iteration 68, pseudo-likelihood = -91.20, time = 0.30s\n",
      "[BernoulliRBM] Iteration 69, pseudo-likelihood = -91.04, time = 0.30s\n",
      "[BernoulliRBM] Iteration 70, pseudo-likelihood = -90.86, time = 0.30s\n",
      "[BernoulliRBM] Iteration 71, pseudo-likelihood = -90.74, time = 0.30s\n",
      "[BernoulliRBM] Iteration 72, pseudo-likelihood = -90.23, time = 0.30s\n",
      "[BernoulliRBM] Iteration 73, pseudo-likelihood = -89.65, time = 0.30s\n",
      "[BernoulliRBM] Iteration 74, pseudo-likelihood = -89.70, time = 0.34s\n",
      "[BernoulliRBM] Iteration 75, pseudo-likelihood = -89.08, time = 0.30s\n",
      "[BernoulliRBM] Iteration 76, pseudo-likelihood = -89.54, time = 0.30s\n",
      "[BernoulliRBM] Iteration 77, pseudo-likelihood = -88.91, time = 0.31s\n",
      "[BernoulliRBM] Iteration 78, pseudo-likelihood = -88.94, time = 0.30s\n",
      "[BernoulliRBM] Iteration 79, pseudo-likelihood = -88.00, time = 0.30s\n",
      "[BernoulliRBM] Iteration 80, pseudo-likelihood = -88.37, time = 0.30s\n",
      "[BernoulliRBM] Iteration 81, pseudo-likelihood = -87.43, time = 0.30s\n",
      "[BernoulliRBM] Iteration 82, pseudo-likelihood = -87.63, time = 0.30s\n",
      "[BernoulliRBM] Iteration 83, pseudo-likelihood = -87.88, time = 0.30s\n",
      "[BernoulliRBM] Iteration 84, pseudo-likelihood = -87.31, time = 0.30s\n",
      "[BernoulliRBM] Iteration 85, pseudo-likelihood = -87.51, time = 0.30s\n",
      "[BernoulliRBM] Iteration 86, pseudo-likelihood = -87.89, time = 0.30s\n",
      "[BernoulliRBM] Iteration 87, pseudo-likelihood = -87.20, time = 0.30s\n",
      "[BernoulliRBM] Iteration 88, pseudo-likelihood = -86.45, time = 0.30s\n",
      "[BernoulliRBM] Iteration 89, pseudo-likelihood = -86.45, time = 0.30s\n",
      "[BernoulliRBM] Iteration 90, pseudo-likelihood = -86.12, time = 0.30s\n",
      "[BernoulliRBM] Iteration 91, pseudo-likelihood = -85.81, time = 0.30s\n",
      "[BernoulliRBM] Iteration 92, pseudo-likelihood = -85.71, time = 0.30s\n",
      "[BernoulliRBM] Iteration 93, pseudo-likelihood = -86.26, time = 0.30s\n",
      "[BernoulliRBM] Iteration 94, pseudo-likelihood = -85.85, time = 0.30s\n",
      "[BernoulliRBM] Iteration 95, pseudo-likelihood = -85.78, time = 0.29s\n",
      "[BernoulliRBM] Iteration 96, pseudo-likelihood = -85.76, time = 0.30s\n",
      "[BernoulliRBM] Iteration 97, pseudo-likelihood = -84.74, time = 0.30s\n",
      "[BernoulliRBM] Iteration 98, pseudo-likelihood = -85.60, time = 0.30s\n",
      "[BernoulliRBM] Iteration 99, pseudo-likelihood = -85.18, time = 0.30s\n",
      "[BernoulliRBM] Iteration 100, pseudo-likelihood = -84.75, time = 0.30s\n"
     ]
    },
    {
     "data": {
      "text/plain": [
       "BernoulliRBM(batch_size=50, learning_rate=0.02, n_components=100, n_iter=100,\n",
       "       random_state=0, verbose=1)"
      ]
     },
     "execution_count": 5,
     "metadata": {},
     "output_type": "execute_result"
    }
   ],
   "source": [
    "rbm.fit(x)"
   ]
  },
  {
   "cell_type": "code",
   "execution_count": 6,
   "metadata": {},
   "outputs": [],
   "source": [
    "#Removing parts\n",
    "gen_x = gibbs_sampling(1,x[:100][:78*8],rbm)"
   ]
  },
  {
   "cell_type": "code",
   "execution_count": 7,
   "metadata": {},
   "outputs": [],
   "source": [
    "#Sampling to generate\n",
    "z = y[:100]\n",
    "gen_z = gibbs_sampling(10,z,rbm)"
   ]
  },
  {
   "cell_type": "code",
   "execution_count": 8,
   "metadata": {},
   "outputs": [
    {
     "data": {
      "image/png": "[encoded data removed]",
      "text/plain": [
       "<Figure size 432x432 with 100 Axes>"
      ]
     },
     "metadata": {},
     "output_type": "display_data"
    }
   ],
   "source": [
    "plt.figure(figsize=(6, 6))\n",
    "for i, comp in enumerate(gen_x):\n",
    "    plt.subplot(10, 10, i + 1)\n",
    "    plt.imshow(comp.reshape((28, 28)), cmap=plt.cm.gray_r, interpolation='nearest')\n",
    "    plt.xticks(())\n",
    "    plt.yticks(())\n",
    "plt.suptitle('Input images reconstructed by Gibbs sampling', fontsize=16)\n",
    "plt.subplots_adjust(wspace=0.1,hspace=0.1) # width and hight reserved for blank space\n",
    "\n",
    "plt.show()"
   ]
  },
  {
   "cell_type": "code",
   "execution_count": 9,
   "metadata": {},
   "outputs": [
    {
     "data": {
      "image/png": "[encoded data removed]",
      "text/plain": [
       "<Figure size 432x432 with 100 Axes>"
      ]
     },
     "metadata": {},
     "output_type": "display_data"
    }
   ],
   "source": [
    "plt.figure(figsize=(6, 6))\n",
    "for i, comp in enumerate(gen_z):\n",
    "    plt.subplot(10, 10, i + 1)\n",
    "    plt.imshow(comp.reshape((28, 28)), cmap=plt.cm.gray_r, interpolation='nearest')\n",
    "    plt.xticks(())\n",
    "    plt.yticks(())\n",
    "plt.suptitle('New Generated data', fontsize=16)\n",
    "plt.subplots_adjust(wspace=0.1,hspace=0.1) # width and hight reserved for blank space\n",
    "\n",
    "plt.show()"
   ]
  },
  {
   "cell_type": "code",
   "execution_count": null,
   "metadata": {},
   "outputs": [],
   "source": []
  }
 ],
 "metadata": {
  "kernelspec": {
   "display_name": "Python 3",
   "language": "python",
   "name": "python3"
  },
  "language_info": {
   "codemirror_mode": {
    "name": "ipython",
    "version": 3
   },
   "file_extension": ".py",
   "mimetype": "text/x-python",
   "name": "python",
   "nbconvert_exporter": "python",
   "pygments_lexer": "ipython3",
   "version": "3.7.1"
  }
 },
 "nbformat": 4,
 "nbformat_minor": 2
}
